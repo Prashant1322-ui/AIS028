{
 "cells": [
  {
   "cell_type": "markdown",
   "metadata": {},
   "source": [
    "Name: Prashant Sanjay Sonar\n",
    "    \n",
    "Employee ID : AIS028\n",
    "    \n"
   ]
  },
  {
   "cell_type": "markdown",
   "metadata": {},
   "source": [
    "Q1 : What is tuples?\n",
    "\n",
    "Ans:\n",
    "A tuple is an immutable sequence of Python objects. A tuple in Python is similar to a list.he difference between the two is that we cannot change the elements of a tuple once it is assigned where as we can change the elements of a list.\n",
    "Put these comma-separated values between parentheses also.\n",
    "For example − tup1 = ('physics', 'chemistry', 1997, 2000)"
   ]
  },
  {
   "cell_type": "markdown",
   "metadata": {},
   "source": [
    "Q2. What is difference between list and tuple?\n",
    "\n",
    "Ans:\n",
    "The main difference between lists and tuples is the fact that lists are mutable whereas tuples are immutable.\n",
    "\n",
    "A mutable data type means that a python object of this type can be modified. An immutable object can't."
   ]
  },
  {
   "cell_type": "markdown",
   "metadata": {},
   "source": [
    "Q3. What is the result of range (1, 12, 2)?\n",
    " \n",
    "o/p is range(1,12,2) but using loop or another trasformations using proper o/p is [1,3,5,7,9,11]\n"
   ]
  },
  {
   "cell_type": "code",
   "execution_count": 2,
   "metadata": {},
   "outputs": [
    {
     "data": {
      "text/plain": [
       "array([ 1,  3,  5,  7,  9, 11])"
      ]
     },
     "execution_count": 2,
     "metadata": {},
     "output_type": "execute_result"
    }
   ],
   "source": [
    "range(1,12,2)  # last values are excluded \n",
    " # range and arange fun same\n",
    "    \n",
    "import numpy as np\n",
    "np.arange(1,12,2)\n",
    "\n"
   ]
  },
  {
   "cell_type": "markdown",
   "metadata": {},
   "source": [
    "Q4. Assuming a= [10, 20, 30, 40, 50]\n",
    "   1. Find length of a list?\n",
    "   2. Find maximum and minimum number of a list\n",
    "   \n"
   ]
  },
  {
   "cell_type": "code",
   "execution_count": 2,
   "metadata": {},
   "outputs": [
    {
     "data": {
      "text/plain": [
       "5"
      ]
     },
     "metadata": {},
     "output_type": "display_data"
    },
    {
     "data": {
      "text/plain": [
       "50"
      ]
     },
     "metadata": {},
     "output_type": "display_data"
    },
    {
     "data": {
      "text/plain": [
       "10"
      ]
     },
     "metadata": {},
     "output_type": "display_data"
    }
   ],
   "source": [
    "#Ans:\n",
    "\n",
    "a= [10, 20, 30, 40, 50]\n",
    "display(len(a),  max(a),  min(a))"
   ]
  },
  {
   "cell_type": "code",
   "execution_count": 3,
   "metadata": {},
   "outputs": [
    {
     "data": {
      "text/plain": [
       "(1, 2, 3, 4, 5, 1, 3, 1, 1, 2, 3, 4, 5, 1, 3, 1)"
      ]
     },
     "execution_count": 3,
     "metadata": {},
     "output_type": "execute_result"
    }
   ],
   "source": [
    "#   Q5. If x=(1,2,3,4,5,1,3,1) then what is the result of x*2 and x.count(1)?\n",
    "\n",
    "x=(1,2,3,4,5,1,3,1)\n",
    "x*2"
   ]
  },
  {
   "cell_type": "code",
   "execution_count": 4,
   "metadata": {},
   "outputs": [
    {
     "data": {
      "text/plain": [
       "3"
      ]
     },
     "execution_count": 4,
     "metadata": {},
     "output_type": "execute_result"
    }
   ],
   "source": [
    "x.count(1)"
   ]
  },
  {
   "cell_type": "code",
   "execution_count": 5,
   "metadata": {},
   "outputs": [
    {
     "name": "stdout",
     "output_type": "stream",
     "text": [
      "green black\n"
     ]
    }
   ],
   "source": [
    "# Q6 Create a list of colors name and then print first and last color name of the list using slicing?\n",
    "\n",
    "b=['green','yello','red','blue','black']\n",
    "print(b[0],b[-1])"
   ]
  },
  {
   "cell_type": "markdown",
   "metadata": {},
   "source": [
    " Q7  If list = [1,4,7,'a','c',\"rat\",\"mat\",4,6,4] then add element 12 using append method and\n",
    "                 remove rat element using remove method in the given list?#"
   ]
  },
  {
   "cell_type": "code",
   "execution_count": 6,
   "metadata": {},
   "outputs": [
    {
     "data": {
      "text/plain": [
       "[1, 4, 7, 'a', 'c', 'rat', 'mat', 4, 6, 4, 12]"
      ]
     },
     "execution_count": 6,
     "metadata": {},
     "output_type": "execute_result"
    }
   ],
   "source": [
    "list = [1,4,7,'a','c',\"rat\",\"mat\",4,6,4]\n",
    "list.append(12)\n",
    "list"
   ]
  },
  {
   "cell_type": "code",
   "execution_count": 7,
   "metadata": {},
   "outputs": [
    {
     "name": "stdout",
     "output_type": "stream",
     "text": [
      "[1, 4, 7, 'a', 'c', 'mat', 4, 6, 4, 12]\n"
     ]
    }
   ],
   "source": [
    "list.remove(\"rat\")\n",
    "print(list)"
   ]
  },
  {
   "cell_type": "code",
   "execution_count": 8,
   "metadata": {},
   "outputs": [
    {
     "name": "stdout",
     "output_type": "stream",
     "text": [
      "[1, 2, 3, 4, 5, 6, 7, 8, 9, 10]\n"
     ]
    },
    {
     "data": {
      "text/plain": [
       "array([ 1,  2,  3,  4,  5,  6,  7,  8,  9, 10])"
      ]
     },
     "execution_count": 8,
     "metadata": {},
     "output_type": "execute_result"
    }
   ],
   "source": [
    "#Q8 Create two list and concatenate them and then repeat 1st list 3 times?\n",
    "\n",
    "a=[1,2,3,4,5]\n",
    "b=[6,7,8,9,10]\n",
    "print(a+b)\n",
    "\n",
    "#\n",
    "import numpy as np\n",
    "np.concatenate((a,b))\n"
   ]
  },
  {
   "cell_type": "code",
   "execution_count": 9,
   "metadata": {},
   "outputs": [
    {
     "data": {
      "text/plain": [
       "('mango', 'banana', 'graps', 'apple')"
      ]
     },
     "execution_count": 9,
     "metadata": {},
     "output_type": "execute_result"
    }
   ],
   "source": [
    "#Q9 9. Create a tuple of fruits name and then access first 4 elements from the tuple?\n",
    "\n",
    "x=('mango','banana','graps','apple','Guava','straberray')\n",
    "x[0:4]\n"
   ]
  },
  {
   "cell_type": "code",
   "execution_count": 10,
   "metadata": {},
   "outputs": [
    {
     "name": "stdout",
     "output_type": "stream",
     "text": [
      "[range(1, 12, 2)]\n"
     ]
    },
    {
     "data": {
      "text/plain": [
       "(range(1, 12, 2),)"
      ]
     },
     "execution_count": 10,
     "metadata": {},
     "output_type": "execute_result"
    }
   ],
   "source": [
    "#  Q10 .Create a list using range function and then convert this list into tuple using tuple function?\n",
    "\n",
    "z=[range(1,12,2)]\n",
    "print(z)\n",
    "tuple(z)"
   ]
  },
  {
   "cell_type": "code",
   "execution_count": 11,
   "metadata": {},
   "outputs": [
    {
     "data": {
      "text/plain": [
       "(1, -5, 4, 6, 7)"
      ]
     },
     "metadata": {},
     "output_type": "display_data"
    },
    {
     "data": {
      "text/plain": [
       "5"
      ]
     },
     "metadata": {},
     "output_type": "display_data"
    }
   ],
   "source": [
    "# Q11. Create a tuple using eval function and then obtained the length of tuple?\n",
    "\n",
    "tuple1 = \"1, -5, 4, 6, 7\"\n",
    "res = eval(tuple1) \n",
    "display(res,len(res))"
   ]
  },
  {
   "cell_type": "code",
   "execution_count": 12,
   "metadata": {},
   "outputs": [
    {
     "data": {
      "text/plain": [
       "[2, 6, 10, 43, 70]"
      ]
     },
     "execution_count": 12,
     "metadata": {},
     "output_type": "execute_result"
    }
   ],
   "source": [
    "#Q12. Create a tuple of integer number and then sort the elements of tuple?\n",
    "\n",
    "tuple2=(10,2,6,70,43)\n",
    "sorted(tuple2)"
   ]
  },
  {
   "cell_type": "code",
   "execution_count": 13,
   "metadata": {},
   "outputs": [
    {
     "data": {
      "text/plain": [
       "['red', 'green', 'purple', 'yellow', 'white', 'black']"
      ]
     },
     "execution_count": 13,
     "metadata": {},
     "output_type": "execute_result"
    }
   ],
   "source": [
    "#13. Create a list of colors name and then insert purple color on 3rd position using insert method?\n",
    "\n",
    "z=['red','green','yellow','white','black']\n",
    "z.insert(2,'purple')\n",
    "z"
   ]
  },
  {
   "cell_type": "code",
   "execution_count": 14,
   "metadata": {},
   "outputs": [
    {
     "data": {
      "text/plain": [
       "(200, 100)"
      ]
     },
     "execution_count": 14,
     "metadata": {},
     "output_type": "execute_result"
    }
   ],
   "source": [
    "# Q14. If x= (50, 60, 70, 80, 90, (200,100)) then access 200,100 from the tuple?\n",
    "\n",
    "x= (50, 60, 70, 80, 90, (200,100))\n",
    "x[-1]"
   ]
  },
  {
   "cell_type": "code",
   "execution_count": 15,
   "metadata": {},
   "outputs": [
    {
     "data": {
      "text/plain": [
       "['mouse', [8, 4, 6], ['a']]"
      ]
     },
     "metadata": {},
     "output_type": "display_data"
    },
    {
     "data": {
      "text/plain": [
       "('mouse', [8, 4, 6], (1, 2, 3))"
      ]
     },
     "metadata": {},
     "output_type": "display_data"
    }
   ],
   "source": [
    " # Q15 Create a nested tuple and nested list?\n",
    "  #means : tuple under tuple and list under list is called nested tuple/list  \n",
    "# nested list\n",
    "n_list = [\"mouse\", [8, 4, 6], ['a']]\n",
    "\n",
    "#nested tuples\n",
    "n_tuple = (\"mouse\", [8, 4, 6], (1, 2, 3))\n",
    "\n",
    "display(n_list,n_tuple)"
   ]
  },
  {
   "cell_type": "code",
   "execution_count": null,
   "metadata": {},
   "outputs": [],
   "source": []
  }
 ],
 "metadata": {
  "kernelspec": {
   "display_name": "Python 3",
   "language": "python",
   "name": "python3"
  },
  "language_info": {
   "codemirror_mode": {
    "name": "ipython",
    "version": 3
   },
   "file_extension": ".py",
   "mimetype": "text/x-python",
   "name": "python",
   "nbconvert_exporter": "python",
   "pygments_lexer": "ipython3",
   "version": "3.7.6"
  }
 },
 "nbformat": 4,
 "nbformat_minor": 4
}
