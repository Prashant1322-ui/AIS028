{
 "cells": [
  {
   "cell_type": "markdown",
   "metadata": {},
   "source": [
    "Name Prashant Sanjay Sonar\n",
    "\n",
    "Employee ID : AIS028"
   ]
  },
  {
   "cell_type": "markdown",
   "metadata": {},
   "source": [
    "Q1 What is meant by dictionary?\n",
    "\n",
    "Python dictionary is an unordered collection of items. Each item of a dictionary has a key/value pair.\n",
    "Dictionaries are optimized to repeat values when the key is known.\n",
    "\n",
    "Creating a dictionary is as simple as placing items inside curly braces {} separated by commas.\n",
    "An item has a key and a corresponding value that is expressed as a pair (key: value).\n",
    "\n",
    "While the values can be of any data type and can repeat, keys must be of immutable type (string, number or tuple with immutable elements) and must be unique.\n",
    "As you can see from above, we can also create a dictionary using the built-in dict() function.\n",
    "\n",
    "Accessing Elements from Dictionary\n",
    "While indexing is used with other data types to access values, a dictionary uses keys. Keys can be used either inside square brackets [] or with the get() method.\n",
    "\n",
    "If we use the square brackets [], KeyError is raised in case a key is not found in the dictionary. On the other hand, the get() method returns None if the key is not found.\n",
    "\n",
    "shortcut :Ans-A dictionary represents a group of elements arranged in the form of key-value pairs.In the dictionary, the first element is considered as 'key' and next element is taken as its value.the key and its value are separated by a colon(:). All the key-value paires are inserted in curly braces {}.\""
   ]
  },
  {
   "cell_type": "code",
   "execution_count": 8,
   "metadata": {},
   "outputs": [
    {
     "name": "stdout",
     "output_type": "stream",
     "text": [
      "Jack\n",
      "26\n"
     ]
    }
   ],
   "source": [
    "#for ex. \n",
    "# get vs [] for retrieving elements\n",
    "my_dict = {'name': 'Jack', 'age': 26}\n",
    "print(my_dict['name'])\n",
    "print(my_dict.get('age'))"
   ]
  },
  {
   "cell_type": "markdown",
   "metadata": {},
   "source": [
    "2. What is difference between dictionary and set?\n",
    "\n",
    "In dictionary  we use curly brakets. But since it has key-value pairs instead of single values,\n",
    "for ex.\n",
    "\n",
    "mydict={1:2,2:4,3:6}\n",
    "\n",
    "mydict\n",
    "\n",
    "{1: 2, 2: 4, 3: 6}\n",
    "\n",
    "To access pairs from a Python dictionary, we use their keys as indices.Python dictionary is an unordered collection of items.\n",
    "\n",
    "For example, let’s try accessing the value 4.\n",
    "\n",
    "mydict[2]\n",
    "\n",
    "In set, A Python set is a slightly different concept from a list or a tuple. A set, in Python, is just like the mathematical set. It does not hold duplicate values and is unordered. However, it is not immutable, unlike a tuple.\n",
    "\n",
    "x={1,2,2,2}       #It does not hold duplicate values \n",
    "\n",
    "x\n",
    "\n",
    "o/p {1,2}\n",
    "\n",
    "Let’s first declare a set. Use curly braces for the same.\n",
    "\n",
    "myset={3,1,2}\n",
    "\n",
    "myset\n",
    "\n",
    "{1, 2, 3}\n",
    "\n",
    "But the main difference is that items in dictionaries are accessed via keys and not via their position. The values of a dictionary can be any Python data type. A set is a collection which is not order wise and unindexed form. \n",
    "\n",
    "Since a set is unordered, there is no way we can use indexing to access or delete its elements. Then, to perform operations on it, Python provides us with a list of functions and methods like discard(), pop(), clear(), remove(), add(), and more. Functions like len() and max() also apply on sets.\n",
    "\n",
    "\n",
    "Shortcut:\n",
    "\n",
    "A dictionary represents a group of elements arranged in the form of key-value pairs.In dictionary the key and its value are separated by a colon(\\\":\\\") and keys of dictionary are unique. \\n\",\n",
    "    \"\\n\",\n",
    "    \"set has group of elements or a single values instead of key-value pairs.its value are separated by a comma(\\\",\\\").Set does not hold duplicate values.\""
   ]
  },
  {
   "cell_type": "code",
   "execution_count": 1,
   "metadata": {},
   "outputs": [
    {
     "name": "stdout",
     "output_type": "stream",
     "text": [
      "{1.0, 'Hello', (1, 2, 3)}\n",
      "{'name': ['prani', 'rani'], 'Id': [15, 16], 'salary': [10000, 12000]}\n"
     ]
    }
   ],
   "source": [
    "# Q3 Create a python set of mixed data types?\n",
    "\n",
    "#Ans:    \n",
    "set1= {1.0, \"Hello\", (1, 2, 3)}\n",
    "print(set1)\n",
    "\n",
    "#or\n",
    "d={'name':[\"prani\",\"rani\"],'Id':[15,16],'salary':[10000,12000]}\n",
    "print(d)"
   ]
  },
  {
   "cell_type": "code",
   "execution_count": 5,
   "metadata": {},
   "outputs": [
    {
     "data": {
      "text/plain": [
       "{'name': 'Prashant', 'ID': 1001, 'salary': 25000}"
      ]
     },
     "execution_count": 5,
     "metadata": {},
     "output_type": "execute_result"
    }
   ],
   "source": [
    "# Q4 Create a Dictionary of employee name, Id and salary?\n",
    "\n",
    "dict1={'name':'Prashant','ID':1001,'salary':25000}\n",
    "dict1"
   ]
  },
  {
   "cell_type": "code",
   "execution_count": 7,
   "metadata": {},
   "outputs": [
    {
     "data": {
      "text/plain": [
       "dict_items([('A', 'Geeks'), ('B', 4), ('C', 'Geeks')])"
      ]
     },
     "execution_count": 7,
     "metadata": {},
     "output_type": "execute_result"
    }
   ],
   "source": [
    "# Q5  Display key-value pairs from dictionary using items () method?\n",
    "\n",
    "Dictionary1 = { 'A': 'Geeks', 'B': 4, 'C': 'Geeks' } \n",
    "items = Dictionary1.items()\n",
    "items"
   ]
  },
  {
   "cell_type": "code",
   "execution_count": 8,
   "metadata": {},
   "outputs": [
    {
     "data": {
      "text/plain": [
       "1001"
      ]
     },
     "execution_count": 8,
     "metadata": {},
     "output_type": "execute_result"
    }
   ],
   "source": [
    "# Q6 Create a dictionary and access values of 2nd key from the dictionary?\n",
    "\n",
    "dict1={'name':'Prashant','ID':1001,'salary':25000}\n",
    "dict1\n",
    "dict1['ID']"
   ]
  },
  {
   "cell_type": "code",
   "execution_count": 11,
   "metadata": {},
   "outputs": [
    {
     "name": "stdout",
     "output_type": "stream",
     "text": [
      "{}\n"
     ]
    }
   ],
   "source": [
    "# Q7. Create a dictionary and then print empty dictionary using clear () method?\n",
    "\n",
    "dict1={'name':'Prashant','ID':1001,'salary':25000}\n",
    "dict1.clear()\n",
    "print(dict1)"
   ]
  },
  {
   "cell_type": "code",
   "execution_count": 13,
   "metadata": {},
   "outputs": [
    {
     "data": {
      "text/plain": [
       "dict_keys(['name', 'roll no', 'marks', 'gender'])"
      ]
     },
     "execution_count": 13,
     "metadata": {},
     "output_type": "execute_result"
    }
   ],
   "source": [
    "# Q8. Create a Dictionary of name, roll no, marks, gender and access keys from the dictionary using key () method?\n",
    "\n",
    "dict2={'name':'vishal','roll no':18,'marks':19,'gender':'Male'}\n",
    "dict2\n",
    "dict2.keys()\n"
   ]
  },
  {
   "cell_type": "code",
   "execution_count": 16,
   "metadata": {},
   "outputs": [
    {
     "name": "stdout",
     "output_type": "stream",
     "text": [
      "{1, 2, 3, 4, 5, 6, 7, 8, 9, 10}\n"
     ]
    }
   ],
   "source": [
    "# Q9. Take set A for even and B for odd and print the union of two set? \n",
    "\n",
    "x={2,4,6,8,10}\n",
    "y={1,3,5,7,9}\n",
    "print(x|y)  #print(A.union(B))"
   ]
  },
  {
   "cell_type": "code",
   "execution_count": 18,
   "metadata": {},
   "outputs": [
    {
     "name": "stdout",
     "output_type": "stream",
     "text": [
      "{1, 2, 3}\n",
      "{4, 5}\n",
      "{8, 6, 7}\n"
     ]
    }
   ],
   "source": [
    "# Q10. If A={1,2,3,4,5} and B={4,5,6,7,8} then find difference, intersection of set A and B?\n",
    "\n",
    "A={1,2,3,4,5}\n",
    "B={4,5,6,7,8}\n",
    "print(A-B)  # difference\n",
    "print(A & B) #intersection\n",
    "print(B-A)"
   ]
  },
  {
   "cell_type": "code",
   "execution_count": 21,
   "metadata": {},
   "outputs": [
    {
     "name": "stdout",
     "output_type": "stream",
     "text": [
      "{1, 2, 4, 5, 6}\n"
     ]
    }
   ],
   "source": [
    "# Q11. If set= {1, 2, 3, 5, 6} then add an element 4 in the set using add () function and remove 3 using discard () function?\n",
    "\n",
    "set= {1, 2, 3, 5, 6}\n",
    "set.add(4)\n",
    "set.discard(3)\n",
    "print(set)"
   ]
  },
  {
   "cell_type": "code",
   "execution_count": 24,
   "metadata": {},
   "outputs": [
    {
     "name": "stdout",
     "output_type": "stream",
     "text": [
      "{1, 2, 3, 5, 6, 9, 11, 12}\n"
     ]
    }
   ],
   "source": [
    "# Q12. Add 12,9,11 in the set A = {1, 2, 3, 5, 6} using update () function?\n",
    "\n",
    "A = {1, 2, 3, 5, 6} \n",
    "B={12,9,11}\n",
    "A.update(B)\n",
    "print(A)"
   ]
  },
  {
   "cell_type": "code",
   "execution_count": 31,
   "metadata": {},
   "outputs": [
    {
     "data": {
      "text/plain": [
       "28"
      ]
     },
     "execution_count": 31,
     "metadata": {},
     "output_type": "execute_result"
    }
   ],
   "source": [
    "# Q13. Create a set and print the sum of all the elements in the set?\n",
    "\n",
    "A={1,2,3,4,5,6,7}\n",
    "sum(A)"
   ]
  },
  {
   "cell_type": "code",
   "execution_count": 3,
   "metadata": {},
   "outputs": [
    {
     "name": "stdout",
     "output_type": "stream",
     "text": [
      "True\n",
      "False\n",
      "False\n",
      "True\n"
     ]
    }
   ],
   "source": [
    "# Q14. if myset={\"a\",\"p\",\"p\",\"l\",\"e\"} then check whether a and r is in the set or not using membership operator?\n",
    "\n",
    "myset={\"a\",\"p\",\"p\",\"l\",\"e\"}\n",
    "print(\"a\" in myset)\n",
    "print(\"r\" in myset)\n",
    "print(\"a\"  not in myset)\n",
    "print(\"r\" not in myset)"
   ]
  },
  {
   "cell_type": "code",
   "execution_count": 43,
   "metadata": {},
   "outputs": [
    {
     "name": "stdout",
     "output_type": "stream",
     "text": [
      "name Sachin\n",
      "runs 99\n"
     ]
    }
   ],
   "source": [
    "# Q15. Create a dictionary of players name and runs in match and print keys and values in dictionary using for loop?\n",
    "\n",
    "dict11={'name':'Sachin','runs':99}\n",
    "for x in dict11:\n",
    "    print(x,dict11[x])"
   ]
  },
  {
   "cell_type": "code",
   "execution_count": null,
   "metadata": {},
   "outputs": [],
   "source": []
  }
 ],
 "metadata": {
  "kernelspec": {
   "display_name": "Python 3",
   "language": "python",
   "name": "python3"
  },
  "language_info": {
   "codemirror_mode": {
    "name": "ipython",
    "version": 3
   },
   "file_extension": ".py",
   "mimetype": "text/x-python",
   "name": "python",
   "nbconvert_exporter": "python",
   "pygments_lexer": "ipython3",
   "version": "3.7.6"
  }
 },
 "nbformat": 4,
 "nbformat_minor": 4
}
