{
 "cells": [
  {
   "cell_type": "markdown",
   "metadata": {},
   "source": [
    "Name : Prashant Sanjay Sonar\n",
    "    \n",
    "Employee ID : AIS028\n",
    "    \n"
   ]
  },
  {
   "cell_type": "markdown",
   "metadata": {},
   "source": [
    "\n",
    "Q1 Which are the control statements in python?\n",
    "\n",
    "Continue Statement. It returns the control to the beginning of the loop.\n",
    "\n",
    "Break Statement. It brings control out of the loop.\n",
    "\n",
    "Pass Statement. We use pass statement to write empty loops. \n"
   ]
  },
  {
   "cell_type": "code",
   "execution_count": 1,
   "metadata": {},
   "outputs": [
    {
     "name": "stdout",
     "output_type": "stream",
     "text": [
      "s\n",
      "t\n",
      "i\n",
      "n\n",
      "g\n"
     ]
    }
   ],
   "source": [
    "#Use of continue statement inside the loop\n",
    "\n",
    "for i in \"string\":\n",
    "    if i == \"r\":\n",
    "        continue\n",
    "    print(i)"
   ]
  },
  {
   "cell_type": "code",
   "execution_count": 2,
   "metadata": {},
   "outputs": [
    {
     "name": "stdout",
     "output_type": "stream",
     "text": [
      "s\n",
      "t\n"
     ]
    }
   ],
   "source": [
    "# break\n",
    "for i in \"string\":\n",
    "    if i == \"r\":\n",
    "        break\n",
    "    print(i)"
   ]
  },
  {
   "cell_type": "code",
   "execution_count": 3,
   "metadata": {},
   "outputs": [
    {
     "name": "stdout",
     "output_type": "stream",
     "text": [
      "s\n",
      "t\n",
      "r\n",
      "i\n",
      "n\n",
      "g\n"
     ]
    }
   ],
   "source": [
    "# Pass\n",
    "for i in \"string\":\n",
    "    if i == \"r\":\n",
    "        pass\n",
    "    print(i)"
   ]
  },
  {
   "cell_type": "code",
   "execution_count": 4,
   "metadata": {},
   "outputs": [
    {
     "name": "stdout",
     "output_type": "stream",
     "text": [
      "True True True\n"
     ]
    }
   ],
   "source": [
    "# Q2. A python program to test whether a given number is in between 1 and 10?\n",
    "\n",
    "r=range(1,10)\n",
    "print(2 in r,5 in r, 8 in r)\n"
   ]
  },
  {
   "cell_type": "code",
   "execution_count": 5,
   "metadata": {},
   "outputs": [
    {
     "name": "stdout",
     "output_type": "stream",
     "text": [
      "enter a no:5\n",
      "no is odd\n"
     ]
    }
   ],
   "source": [
    "# Q3. Write a python program to check whether number is even or odd?\n",
    "\n",
    "n=int(input('enter a no:'))\n",
    "if (n%2)==0:\n",
    "    print(\"no is even\")\n",
    "else:\n",
    "    print(\"no is odd\")"
   ]
  },
  {
   "cell_type": "code",
   "execution_count": 6,
   "metadata": {},
   "outputs": [
    {
     "name": "stdout",
     "output_type": "stream",
     "text": [
      "list is empty\n"
     ]
    }
   ],
   "source": [
    "# Q4. Write a python program to check whether a list is empty or not using len () function?\n",
    "\n",
    "a=[]\n",
    "if len(a)==0:\n",
    "    print('list is empty')\n",
    "else:\n",
    "    print('list is not empty')"
   ]
  },
  {
   "cell_type": "code",
   "execution_count": 7,
   "metadata": {},
   "outputs": [
    {
     "name": "stdout",
     "output_type": "stream",
     "text": [
      "enter a no:-5.6\n",
      "no is negative\n"
     ]
    }
   ],
   "source": [
    "# Q5. A python program to check whether a given number is zero, positive or negative?\n",
    "\n",
    "n=float(input('enter a no:'))\n",
    "if n > 0:\n",
    "    print('no is positive')\n",
    "elif n==0:\n",
    "    print('no is zero')\n",
    "else: \n",
    "    print('no is negative')"
   ]
  },
  {
   "cell_type": "code",
   "execution_count": 8,
   "metadata": {},
   "outputs": [
    {
     "name": "stdout",
     "output_type": "stream",
     "text": [
      "1\n",
      "2\n",
      "3\n",
      "4\n",
      "5\n",
      "6\n",
      "7\n",
      "8\n",
      "9\n",
      "10\n"
     ]
    }
   ],
   "source": [
    "# Q6. Print first 10 natural numbers using while loop and for loop?\n",
    "#while loop\n",
    "i=1\n",
    "while(i<=10):\n",
    "    print(i)\n",
    "    i+=1"
   ]
  },
  {
   "cell_type": "code",
   "execution_count": 9,
   "metadata": {},
   "outputs": [
    {
     "name": "stdout",
     "output_type": "stream",
     "text": [
      "1\n",
      "2\n",
      "3\n",
      "4\n",
      "5\n",
      "6\n",
      "7\n",
      "8\n",
      "9\n",
      "10\n"
     ]
    }
   ],
   "source": [
    "#for loop\n",
    "m=range(1,11)\n",
    "for i in m:\n",
    "    print(i)\n"
   ]
  },
  {
   "cell_type": "code",
   "execution_count": 10,
   "metadata": {},
   "outputs": [
    {
     "name": "stdout",
     "output_type": "stream",
     "text": [
      "5 14 9 7 12 "
     ]
    }
   ],
   "source": [
    "# Q7. Write a python program to reverse the following list using for loop? lt1 = [12, 7, 9, 14, 5]\n",
    "\n",
    "lt1 = [12, 7, 9, 14, 5]\n",
    "for i in reversed(lt1):\n",
    "    print(i,end=' ')\n",
    "    "
   ]
  },
  {
   "cell_type": "code",
   "execution_count": 11,
   "metadata": {},
   "outputs": [
    {
     "name": "stdout",
     "output_type": "stream",
     "text": [
      "multiplication of all elements: 2\n",
      "multiplication of all elements: 4\n",
      "multiplication of all elements: 12\n"
     ]
    }
   ],
   "source": [
    "# Q8 Write a python program to multiply all the items in a list using for loop?\n",
    "product=2\n",
    "list = [1, 2, 3]\n",
    "for x in list:\n",
    "    product = product*x\n",
    "    print('multiplication of all elements:',product)"
   ]
  },
  {
   "cell_type": "code",
   "execution_count": 12,
   "metadata": {},
   "outputs": [
    {
     "name": "stdout",
     "output_type": "stream",
     "text": [
      "The count is: 2\n"
     ]
    }
   ],
   "source": [
    "# Q10. Write a program to count a specific letter in the string.?\n",
    "\n",
    "# define string\n",
    "string = \"Python is awesome, isn't it?\"\n",
    "substr = \"is\"\n",
    "\n",
    "count = string.count(substr)\n",
    "\n",
    "# print count\n",
    "print(\"The count is:\", count)"
   ]
  },
  {
   "cell_type": "code",
   "execution_count": null,
   "metadata": {},
   "outputs": [],
   "source": []
  }
 ],
 "metadata": {
  "kernelspec": {
   "display_name": "Python 3",
   "language": "python",
   "name": "python3"
  },
  "language_info": {
   "codemirror_mode": {
    "name": "ipython",
    "version": 3
   },
   "file_extension": ".py",
   "mimetype": "text/x-python",
   "name": "python",
   "nbconvert_exporter": "python",
   "pygments_lexer": "ipython3",
   "version": "3.7.6"
  }
 },
 "nbformat": 4,
 "nbformat_minor": 4
}
