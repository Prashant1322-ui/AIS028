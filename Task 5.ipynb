{
 "cells": [
  {
   "cell_type": "markdown",
   "metadata": {},
   "source": [
    "Name : Prashant Sanjay Sonar\n",
    "\n",
    "Employee ID : AIS028"
   ]
  },
  {
   "cell_type": "code",
   "execution_count": 1,
   "metadata": {},
   "outputs": [],
   "source": [
    "#Q1. Create a tuple to display the values of a tuple using for loop?\n",
    "\n",
    "tuple1=(1,2,34,43,22)\n",
    "for i in tuple1:\n",
    "    print(i)"
   ]
  },
  {
   "cell_type": "code",
   "execution_count": 2,
   "metadata": {},
   "outputs": [],
   "source": [
    "# Q2 \n",
    "i =100\n",
    "while i <= 121:\n",
    "    print(i)\n",
    "    i+=2\n"
   ]
  },
  {
   "cell_type": "code",
   "execution_count": 3,
   "metadata": {},
   "outputs": [
    {
     "name": "stdout",
     "output_type": "stream",
     "text": [
      "10\n",
      "9\n",
      "8\n",
      "7\n",
      "6\n",
      "5\n",
      "4\n",
      "3\n",
      "2\n",
      "1\n"
     ]
    }
   ],
   "source": [
    "#Q3. Write a python program to display numbers from 10 to 1 in decreasing order using for loop?\n",
    "\n",
    "for i in range(10,0,-1):\n",
    "    print(i)\n",
    "    \n"
   ]
  },
  {
   "cell_type": "code",
   "execution_count": 4,
   "metadata": {},
   "outputs": [
    {
     "name": "stdout",
     "output_type": "stream",
     "text": [
      "11\n",
      "12\n",
      "13\n",
      "14\n",
      "15\n",
      "11 12 13 14 15 "
     ]
    }
   ],
   "source": [
    "# Q4. Write a python program to display numbers from 11 to 15 using continue statement?\n",
    "\n",
    "val=[11,12,13,14,15]\n",
    "for i in val:\n",
    "    if i==16:\n",
    "        continue\n",
    "    print(i)\n",
    "\n",
    "\n",
    "for i in range(11,16,1):\n",
    "    if i==16:\n",
    "        continue\n",
    "    print(i,end=' ')\n"
   ]
  },
  {
   "cell_type": "code",
   "execution_count": 5,
   "metadata": {},
   "outputs": [
    {
     "name": "stdout",
     "output_type": "stream",
     "text": [
      "25\n"
     ]
    }
   ],
   "source": [
    "# Q5. Write a function add () to find sum of two numbers?\n",
    "def add(a,b):\n",
    "    return a+b\n",
    "print(add(10,15))"
   ]
  },
  {
   "cell_type": "code",
   "execution_count": 6,
   "metadata": {},
   "outputs": [
    {
     "name": "stdout",
     "output_type": "stream",
     "text": [
      "20\n"
     ]
    }
   ],
   "source": [
    "# Q6. Write a function multi () to find multiplication of two numbers using return statement?\n",
    "\n",
    "def multi(a,b):\n",
    "    return a*b\n",
    "print(multi(5,4))"
   ]
  },
  {
   "cell_type": "code",
   "execution_count": 7,
   "metadata": {},
   "outputs": [
    {
     "name": "stdout",
     "output_type": "stream",
     "text": [
      "False True False False False True False True True "
     ]
    }
   ],
   "source": [
    "# Q7. Write a python program to print numbers in list which are greater than 50? Where,\n",
    "\n",
    "list1=[12,55,9,30,47,56,23,60,75]\n",
    "#print(x > 50 for x in list1)\n",
    "for i in list1:\n",
    "    print(i>50,end=' ')\n"
   ]
  },
  {
   "cell_type": "code",
   "execution_count": 8,
   "metadata": {},
   "outputs": [
    {
     "name": "stdout",
     "output_type": "stream",
     "text": [
      "15\n"
     ]
    }
   ],
   "source": [
    "# Q8   #Write a function max () that returns a maximum of two number?\n",
    "\n",
    "def max_of_two( x, y ):\n",
    "    if x > y:\n",
    "        return x\n",
    "    return y\n",
    "print(max_of_two(14,15))"
   ]
  },
  {
   "cell_type": "markdown",
   "metadata": {},
   "source": [
    " Q9. Write a function divisible () that takes number\n",
    "1. If number is divisible by 3, it should return \"yes\"\n",
    "2. If number is divisible by 5, it should return \"no\"\n",
    "3. If number is divisible by both 3 and 5, it should return \"yesno\"\n",
    "4. Otherwise it should return \"notdivisible\""
   ]
  },
  {
   "cell_type": "code",
   "execution_count": 9,
   "metadata": {},
   "outputs": [
    {
     "name": "stdout",
     "output_type": "stream",
     "text": [
      "NO\n",
      "yes\n"
     ]
    }
   ],
   "source": [
    "def multiple(m, n):\n",
    "    return \"yes\" if m % n == 0 else \"NO\"\n",
    "\n",
    "print(multiple(20, 3))\n",
    "print(multiple(10, 5))"
   ]
  },
  {
   "cell_type": "code",
   "execution_count": 10,
   "metadata": {},
   "outputs": [
    {
     "name": "stdout",
     "output_type": "stream",
     "text": [
      "enter n value:4\n",
      "* \n",
      "* * \n",
      "* * * \n",
      "* * * * \n"
     ]
    }
   ],
   "source": [
    "# Q10. Write a function called stars (rows). If rows is 4, it should print the following?\n",
    "\n",
    "n=int(input('enter n value:'))\n",
    "for i in range(n):\n",
    "    print('* '*(i+1))"
   ]
  },
  {
   "cell_type": "code",
   "execution_count": null,
   "metadata": {},
   "outputs": [],
   "source": []
  }
 ],
 "metadata": {
  "kernelspec": {
   "display_name": "Python 3",
   "language": "python",
   "name": "python3"
  },
  "language_info": {
   "codemirror_mode": {
    "name": "ipython",
    "version": 3
   },
   "file_extension": ".py",
   "mimetype": "text/x-python",
   "name": "python",
   "nbconvert_exporter": "python",
   "pygments_lexer": "ipython3",
   "version": "3.7.6"
  }
 },
 "nbformat": 4,
 "nbformat_minor": 4
}
